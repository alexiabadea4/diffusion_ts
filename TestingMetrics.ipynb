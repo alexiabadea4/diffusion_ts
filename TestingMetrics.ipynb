{
 "cells": [
  {
   "cell_type": "code",
   "execution_count": 1,
   "metadata": {},
   "outputs": [],
   "source": [
    "import wandb\n",
    "import numpy as np\n",
    "import torch\n",
    "from torch.utils.data import DataLoader\n",
    "from scipy.linalg import sqrtm\n",
    "from scipy.stats import entropy\n",
    "import matplotlib.pyplot as plt\n",
    "from diff_ts import EpsilonTheta\n",
    "from diff_ts import GaussianDiffusion"
   ]
  },
  {
   "cell_type": "code",
   "execution_count": 11,
   "metadata": {},
   "outputs": [
    {
     "data": {
      "text/html": [
       "Finishing last run (ID:9gn00cbw) before initializing another..."
      ],
      "text/plain": [
       "<IPython.core.display.HTML object>"
      ]
     },
     "metadata": {},
     "output_type": "display_data"
    },
    {
     "data": {
      "text/html": [
       " View run <strong style=\"color:#cdcd00\">royal-water-58</strong> at: <a href='https://wandb.ai/fyp_a/test_train_2/runs/9gn00cbw/workspace' target=\"_blank\">https://wandb.ai/fyp_a/test_train_2/runs/9gn00cbw/workspace</a><br/>Synced 5 W&B file(s), 0 media file(s), 0 artifact file(s) and 0 other file(s)"
      ],
      "text/plain": [
       "<IPython.core.display.HTML object>"
      ]
     },
     "metadata": {},
     "output_type": "display_data"
    },
    {
     "data": {
      "text/html": [
       "Find logs at: <code>.\\wandb\\run-20240410_110146-9gn00cbw\\logs</code>"
      ],
      "text/plain": [
       "<IPython.core.display.HTML object>"
      ]
     },
     "metadata": {},
     "output_type": "display_data"
    },
    {
     "data": {
      "text/html": [
       "Successfully finished last run (ID:9gn00cbw). Initializing new run:<br/>"
      ],
      "text/plain": [
       "<IPython.core.display.HTML object>"
      ]
     },
     "metadata": {},
     "output_type": "display_data"
    },
    {
     "data": {
      "text/html": [
       "wandb version 0.16.6 is available!  To upgrade, please run:\n",
       " $ pip install wandb --upgrade"
      ],
      "text/plain": [
       "<IPython.core.display.HTML object>"
      ]
     },
     "metadata": {},
     "output_type": "display_data"
    },
    {
     "data": {
      "text/html": [
       "Tracking run with wandb version 0.16.5"
      ],
      "text/plain": [
       "<IPython.core.display.HTML object>"
      ]
     },
     "metadata": {},
     "output_type": "display_data"
    },
    {
     "data": {
      "text/html": [
       "Run data is saved locally in <code>c:\\Users\\Alexia\\diffusion_ts\\wandb\\run-20240410_112812-zmr424n0</code>"
      ],
      "text/plain": [
       "<IPython.core.display.HTML object>"
      ]
     },
     "metadata": {},
     "output_type": "display_data"
    },
    {
     "data": {
      "text/html": [
       "Syncing run <strong><a href='https://wandb.ai/fyp_a/test_train_2/runs/zmr424n0/workspace' target=\"_blank\">drawn-thunder-59</a></strong> to <a href='https://wandb.ai/fyp_a/test_train_2' target=\"_blank\">Weights & Biases</a> (<a href='https://wandb.me/run' target=\"_blank\">docs</a>)<br/>"
      ],
      "text/plain": [
       "<IPython.core.display.HTML object>"
      ]
     },
     "metadata": {},
     "output_type": "display_data"
    },
    {
     "data": {
      "text/html": [
       " View project at <a href='https://wandb.ai/fyp_a/test_train_2' target=\"_blank\">https://wandb.ai/fyp_a/test_train_2</a>"
      ],
      "text/plain": [
       "<IPython.core.display.HTML object>"
      ]
     },
     "metadata": {},
     "output_type": "display_data"
    },
    {
     "data": {
      "text/html": [
       " View run at <a href='https://wandb.ai/fyp_a/test_train_2/runs/zmr424n0/workspace' target=\"_blank\">https://wandb.ai/fyp_a/test_train_2/runs/zmr424n0/workspace</a>"
      ],
      "text/plain": [
       "<IPython.core.display.HTML object>"
      ]
     },
     "metadata": {},
     "output_type": "display_data"
    },
    {
     "name": "stderr",
     "output_type": "stream",
     "text": [
      "\u001b[34m\u001b[1mwandb\u001b[0m:   1 of 1 files downloaded.  \n"
     ]
    }
   ],
   "source": [
    "run = wandb.init(project=\"test_train_2\")\n",
    "artifact = run.use_artifact('fyp_a/test_train_2/model_batch256_lr0.01_e500:v0')\n",
    "artifact_dir = artifact.download()\n",
    "model=GaussianDiffusion(EpsilonTheta([256]), input_size = 256)\n",
    "model.load_state_dict(torch.load(f\"{artifact_dir}/model_batch256_lr0.01_e500.pth\"))\n",
    "\n",
    "model.eval()\n",
    "\n",
    "all_generated_signals = []\n",
    "\n",
    "\n",
    "total_signals = 10000\n",
    "batch_size = 256 \n",
    "\n",
    "with torch.no_grad():  \n",
    "    for _ in range(total_signals // batch_size):\n",
    "        noise_shape = (batch_size, 1, 256) \n",
    "        random_noise = torch.randn(noise_shape, device=model.betas.device)\n",
    "        generated_signals_batch = model.p_sample_loop(random_noise)\n",
    "        \n",
    "        # Convert generated signals to CPU and detach from the computation graph\n",
    "        generated_signals_batch = generated_signals_batch.cpu().detach()\n",
    "        \n",
    "        # Append the generated batch to the list\n",
    "        all_generated_signals.append(generated_signals_batch.numpy())  # Convert to numpy for easier handling\n",
    "\n",
    "# Concatenate all batches to form a single dataset\n",
    "generated_signals = np.concatenate(all_generated_signals, axis=0)"
   ]
  },
  {
   "cell_type": "code",
   "execution_count": 9,
   "metadata": {},
   "outputs": [],
   "source": [
    "file_path = 'C:/Users/Alexia/datasets/train_set.pth'\n",
    "dataset = torch.load(file_path)\n",
    "train_loader = DataLoader(dataset, batch_size=16, shuffle=True, collate_fn=None)\n",
    "\n",
    "original_signals = []\n",
    "\n",
    "# Iterate through your DataLoader\n",
    "for i, data in enumerate(train_loader):\n",
    "    signals = data['signals']  \n",
    "    for signal in signals:\n",
    "        # Flatten the signal and convert to numpy array\n",
    "        flattened_signal = signal.squeeze().cpu().numpy()\n",
    "        original_signals.append(flattened_signal)\n",
    "\n",
    "# Convert list of numpy arrays to a single numpy array\n",
    "real_signals = np.stack(original_signals)"
   ]
  },
  {
   "cell_type": "code",
   "execution_count": 10,
   "metadata": {},
   "outputs": [
    {
     "name": "stdout",
     "output_type": "stream",
     "text": [
      "KL Divergence between generated and real signals: 2.4721482306942284\n"
     ]
    },
    {
     "data": {
      "image/png": "[encoded data removed]",
      "text/plain": [
       "<Figure size 1000x600 with 1 Axes>"
      ]
     },
     "metadata": {},
     "output_type": "display_data"
    }
   ],
   "source": [
    "\n",
    "\n",
    "\n",
    "def calculate_kl_divergence(p, q):\n",
    "    \"\"\"\n",
    "    Calculate the KL divergence between two distributions.\n",
    "    Note: Both p and q should sum to 1.\n",
    "    \"\"\"\n",
    "    q = np.where(q == 0, np.finfo(float).eps, q)\n",
    "    return entropy(p, q)\n",
    "\n",
    "def approximate_pdf(signals, bins=50, range=None):\n",
    "    \"\"\"\n",
    "    Approximate the PDF of signals using histograms.\n",
    "    \"\"\"\n",
    "    counts, bin_edges = np.histogram(signals, bins=bins, range=range, density=True)\n",
    "    pdf = counts / sum(counts)\n",
    "    return pdf, bin_edges\n",
    "\n",
    "\n",
    "\n",
    "# Flatten the signal arrays for PDF approximation\n",
    "generated_signals_flat = generated_signals.reshape(-1)\n",
    "real_signals_flat = real_signals.reshape(-1)# Adjust as necessary\n",
    "\n",
    "# Approximate the PDFs of the generated and real signals\n",
    "generated_pdf, _ = approximate_pdf(generated_signals_flat)\n",
    "real_pdf, _ = approximate_pdf(real_signals_flat) # Adjust as necessary\n",
    "\n",
    "# Calculate the KL divergence between the two PDFs\n",
    "kl_divergence = calculate_kl_divergence(real_pdf, generated_pdf)\n",
    "\n",
    "print(f\"KL Divergence between generated and real signals: {kl_divergence}\")\n",
    "\n",
    "\n",
    "plt.figure(figsize=(10, 6))\n",
    "plt.hist(generated_signals_flat, bins=50, alpha=0.5, label='Generated', density=True)\n",
    "plt.hist(real_signals_flat, bins=50, alpha=0.5, label='Real', density=True) # Adjust as necessary\n",
    "plt.legend()\n",
    "plt.show()\n"
   ]
  }
 ],
 "metadata": {
  "kernelspec": {
   "display_name": "oneddif",
   "language": "python",
   "name": "python3"
  },
  "language_info": {
   "codemirror_mode": {
    "name": "ipython",
    "version": 3
   },
   "file_extension": ".py",
   "mimetype": "text/x-python",
   "name": "python",
   "nbconvert_exporter": "python",
   "pygments_lexer": "ipython3",
   "version": "3.8.19"
  }
 },
 "nbformat": 4,
 "nbformat_minor": 2
}
