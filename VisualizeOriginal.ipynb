{
 "cells": [
  {
   "cell_type": "code",
   "execution_count": 3,
   "metadata": {},
   "outputs": [],
   "source": [
    "import torch\n",
    "import matplotlib.pyplot as plt\n",
    "from datagenfordiff.datasetdifbig import SynthSignalsDatasetBig\n",
    "from datagenfordiff.datasetdif import SynthSignalsDataset\n",
    "import os"
   ]
  },
  {
   "cell_type": "code",
   "execution_count": 44,
   "metadata": {},
   "outputs": [],
   "source": [
    "num_samples_per_class = 5000\n",
    "noise_level = 0.0 \n",
    "device = 'cpu'  \n",
    "\n",
    "dataset =SynthSignalsDataset(num_samples_per_class, noise_level, device)\n",
    "\n",
    "project_folder_path = 'C:/Users/Alexia'\n",
    "\n",
    "# Create the 'datasets' folder inside 'P' if it doesn't exist\n",
    "datasets_folder_path = os.path.join(project_folder_path, 'datasets')\n",
    "os.makedirs(datasets_folder_path, exist_ok=True)\n",
    "\n",
    "torch.save(dataset, os.path.join(datasets_folder_path, 'train_set_5class.pth'))"
   ]
  },
  {
   "cell_type": "code",
   "execution_count": 34,
   "metadata": {},
   "outputs": [],
   "source": [
    "def normalize_dataset(dataset):\n",
    "\n",
    "\n",
    "    data_loader = torch.utils.data.DataLoader(dataset, batch_size = len(dataset), shuffle = False)\n",
    "    data = next(iter(data_loader))['signals']\n",
    "    mean = torch.mean(data)\n",
    "    std = torch.std(data)\n",
    "\n",
    "    dataset.x_data = (dataset.x_data - mean) / std\n",
    "\n",
    "    return dataset"
   ]
  },
  {
   "cell_type": "code",
   "execution_count": 14,
   "metadata": {},
   "outputs": [],
   "source": [
    "def test_dataset(dataset,  sclass, title=\"Dataset Sample\"):\n",
    "    plt.figure(figsize=(10, 6))\n",
    "    \n",
    "    plt.plot(dataset[2]['signals'], label=f'Sample {4}')\n",
    "    plt.title(title)\n",
    "    plt.legend()\n",
    "    plt.show()\n",
    "\n",
    "   \n",
    "    sample_signals = dataset[0]['signals']\n",
    "    print(f\"Sample Mean: {sample_signals.mean()}, Sample Std: {sample_signals.std()}\")\n"
   ]
  },
  {
   "cell_type": "code",
   "execution_count": 30,
   "metadata": {},
   "outputs": [],
   "source": [
    "import numpy as np\n",
    "def plot_signals_from_dataset(dataset, num_signals_per_class=1):\n",
    "    \"\"\"\n",
    "    Plot signals for each class from the dataset.\n",
    "\n",
    "    Args:\n",
    "        dataset (torch.utils.data.Dataset): The dataset to plot signals from.\n",
    "        num_signals_per_class (int): Number of signals to plot per class.\n",
    "    \"\"\"\n",
    "    # Assuming the class label tensor is named 'signalclasses'\n",
    "    num_classes = torch.unique(dataset.signalclasses).size(0)\n",
    "    fig, axs = plt.subplots(num_classes, num_signals_per_class, figsize=(15, 5 * num_classes))\n",
    "\n",
    "    # Check if we have a single subplot or a grid\n",
    "    if num_classes == 1 and num_signals_per_class == 1:\n",
    "        axs = np.array([[axs]])  # Wrap it in a 2D numpy array to standardize indexing\n",
    "    elif num_classes == 1 or num_signals_per_class == 1:\n",
    "        axs = np.array([axs])  # Wrap in a 1D numpy array if there's only one row or column\n",
    "\n",
    "    for class_id in range(num_classes):\n",
    "        count = 0\n",
    "        for i in range(len(dataset)):\n",
    "            if dataset.signalclasses[i] == class_id and count < num_signals_per_class:\n",
    "                signal = dataset[i]['signals'].numpy()\n",
    "                ax = axs[class_id % num_classes][count % num_signals_per_class]  # Safely index into axs\n",
    "                ax.plot(signal, label=f'Class {class_id}')\n",
    "                ax.set_title(f'Signal for Class {class_id}, Sample {count+1}')\n",
    "                ax.set_xlabel('Time Steps')\n",
    "                ax.set_ylabel('Amplitude')\n",
    "                ax.legend()\n",
    "                ax.grid(True)\n",
    "                count += 1\n",
    "                if count >= num_signals_per_class:\n",
    "                    break\n",
    "\n",
    "    plt.tight_layout()\n",
    "    plt.show()\n"
   ]
  },
  {
   "cell_type": "code",
   "execution_count": 46,
   "metadata": {},
   "outputs": [],
   "source": [
    "\n",
    "\n",
    "def plot_signal_from_specific_class(dataset, class_label):\n",
    "    \"\"\"\n",
    "    Plot one signal from a specified class in the dataset.\n",
    "\n",
    "    Args:\n",
    "        dataset (torch.utils.data.Dataset): The dataset to plot signals from.\n",
    "        class_label (int): The class label of the signal to plot.\n",
    "    \"\"\"\n",
    "\n",
    "    for i in range(len(dataset)):\n",
    "        data = dataset[i]  \n",
    "        if data['sc'] == class_label:\n",
    "            signal = data['signals'].numpy()  # Assuming the signals are stored in 'signals' and are tensors\n",
    "            plt.figure(figsize=(10, 4))\n",
    "            plt.plot(signal, label=f'Class {class_label}')\n",
    "            plt.title(f'Signal for Class {class_label}')\n",
    "            plt.xlabel('Time Steps')\n",
    "            plt.ylabel('Amplitude')\n",
    "            plt.legend()\n",
    "            plt.grid(True)\n",
    "            plt.show()\n",
    "            return  # Stop after plotting the first found signal\n",
    "    else:\n",
    "        print(f\"No signals found for class {class_label}\")\n"
   ]
  },
  {
   "cell_type": "code",
   "execution_count": null,
   "metadata": {},
   "outputs": [],
   "source": []
  },
  {
   "cell_type": "code",
   "execution_count": 47,
   "metadata": {},
   "outputs": [
    {
     "name": "stdout",
     "output_type": "stream",
     "text": [
      "tensor([0])\n",
      "No signals found for class 1\n"
     ]
    }
   ],
   "source": [
    "project_folder_path = 'C:/Users/Alexia'\n",
    "datasets_folder_path = os.path.join(project_folder_path, 'datasets')\n",
    "train_set_path = os.path.join(datasets_folder_path, 'train_set_5class.pth')\n",
    "\n",
    "train_set = torch.load(train_set_path)\n",
    "print(torch.unique(train_set.signalclasses))\n",
    "for i in range(len(train_set)):\n",
    "    data = train_set[i]  \n",
    "    print(data['sc'])\n",
    "#train_set_normalized = normalize_dataset(train_set)\n",
    "\n",
    "#test_dataset(train_set, \"Train Set Sample\")\n",
    "\n",
    "#test_dataset(train_set_normalized, \"Train Set Sample Normalized\")\n",
    "class_label_to_plot = 1 # Specify the class label you want to plot\n",
    "plot_signal_from_specific_class(train_set, class_label_to_plot)"
   ]
  },
  {
   "cell_type": "code",
   "execution_count": null,
   "metadata": {},
   "outputs": [],
   "source": []
  }
 ],
 "metadata": {
  "kernelspec": {
   "display_name": "difonedseg",
   "language": "python",
   "name": "python3"
  },
  "language_info": {
   "codemirror_mode": {
    "name": "ipython",
    "version": 3
   },
   "file_extension": ".py",
   "mimetype": "text/x-python",
   "name": "python",
   "nbconvert_exporter": "python",
   "pygments_lexer": "ipython3",
   "version": "3.7.12"
  }
 },
 "nbformat": 4,
 "nbformat_minor": 2
}
